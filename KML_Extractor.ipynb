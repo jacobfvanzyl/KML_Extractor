{
  "nbformat": 4,
  "nbformat_minor": 0,
  "metadata": {
    "colab": {
      "name": "Point in Polygon.ipynb",
      "provenance": [],
      "collapsed_sections": [],
      "include_colab_link": true
    },
    "kernelspec": {
      "name": "python3",
      "display_name": "Python 3"
    }
  },
  "cells": [
    {
      "cell_type": "markdown",
      "metadata": {
        "id": "view-in-github",
        "colab_type": "text"
      },
      "source": [
        "<a href=\"https://colab.research.google.com/github/jacobfvanzyl/KML_Extractor/blob/master/KML_Extractor.ipynb\" target=\"_parent\"><img src=\"https://colab.research.google.com/assets/colab-badge.svg\" alt=\"Open In Colab\"/></a>"
      ]
    },
    {
      "cell_type": "markdown",
      "metadata": {
        "id": "Q4tYeuYbd0OU",
        "colab_type": "text"
      },
      "source": [
        "# XSIT KML Validator\n",
        "\n",
        "## How-to:\n",
        "1. Place KML file in working directory\n",
        "1. "
      ]
    },
    {
      "cell_type": "markdown",
      "metadata": {
        "id": "ztShn7UTEHPt",
        "colab_type": "text"
      },
      "source": [
        "# Environment setup"
      ]
    },
    {
      "cell_type": "code",
      "metadata": {
        "id": "1MNS3ewIbrkG",
        "colab_type": "code",
        "colab": {
          "base_uri": "https://localhost:8080/",
          "height": 527
        },
        "outputId": "93904754-81c2-4106-c797-de503a368c96"
      },
      "source": [
        "# Only run this cell on every new instance\n",
        "!pip install fastkml\n",
        "!pip install xmltodict\n",
        "!pip install pprint"
      ],
      "execution_count": 1,
      "outputs": [
        {
          "output_type": "stream",
          "text": [
            "Collecting fastkml\n",
            "\u001b[?25l  Downloading https://files.pythonhosted.org/packages/55/10/981bae93dfd4a43cd3a4d7702789d195484ddce142842fb505bd0919ef37/fastkml-0.11.tar.gz (66kB)\n",
            "\r\u001b[K     |█████                           | 10kB 17.4MB/s eta 0:00:01\r\u001b[K     |██████████                      | 20kB 6.2MB/s eta 0:00:01\r\u001b[K     |██████████████▉                 | 30kB 5.5MB/s eta 0:00:01\r\u001b[K     |███████████████████▉            | 40kB 6.4MB/s eta 0:00:01\r\u001b[K     |████████████████████████▊       | 51kB 6.7MB/s eta 0:00:01\r\u001b[K     |█████████████████████████████▊  | 61kB 6.5MB/s eta 0:00:01\r\u001b[K     |████████████████████████████████| 71kB 4.4MB/s \n",
            "\u001b[?25hCollecting pygeoif\n",
            "  Downloading https://files.pythonhosted.org/packages/f0/a7/fc5df91be602a66aaae21213e6eb9b9b8039c8074b6515c570b5110b9108/pygeoif-0.7.tar.gz\n",
            "Requirement already satisfied: python-dateutil in /usr/local/lib/python3.6/dist-packages (from fastkml) (2.8.1)\n",
            "Requirement already satisfied: six>=1.5 in /usr/local/lib/python3.6/dist-packages (from python-dateutil->fastkml) (1.12.0)\n",
            "Building wheels for collected packages: fastkml, pygeoif\n",
            "  Building wheel for fastkml (setup.py) ... \u001b[?25l\u001b[?25hdone\n",
            "  Created wheel for fastkml: filename=fastkml-0.11-cp36-none-any.whl size=61866 sha256=b630c92b5838540c48b927992e0ca963c8c2d43dce746f23e39af865ecb005d2\n",
            "  Stored in directory: /root/.cache/pip/wheels/55/01/ea/6191eb73e0894743d02b33a2b1a570e85242844d810804fbf2\n",
            "  Building wheel for pygeoif (setup.py) ... \u001b[?25l\u001b[?25hdone\n",
            "  Created wheel for pygeoif: filename=pygeoif-0.7-cp36-none-any.whl size=19248 sha256=0dc99a88bac46958ba06e636e61dbdc6cd7a7607db5fb0afa55c13363281e2d3\n",
            "  Stored in directory: /root/.cache/pip/wheels/60/6e/a7/3d3eef59ac84a86663d0f5c5a92091f5056e9aeb6588c4de34\n",
            "Successfully built fastkml pygeoif\n",
            "Installing collected packages: pygeoif, fastkml\n",
            "Successfully installed fastkml-0.11 pygeoif-0.7\n",
            "Collecting xmltodict\n",
            "  Downloading https://files.pythonhosted.org/packages/28/fd/30d5c1d3ac29ce229f6bdc40bbc20b28f716e8b363140c26eff19122d8a5/xmltodict-0.12.0-py2.py3-none-any.whl\n",
            "Installing collected packages: xmltodict\n",
            "Successfully installed xmltodict-0.12.0\n",
            "Collecting pprint\n",
            "  Downloading https://files.pythonhosted.org/packages/99/12/b6383259ef85c2b942ab9135f322c0dce83fdca8600d87122d2b0181451f/pprint-0.1.tar.gz\n",
            "Building wheels for collected packages: pprint\n",
            "  Building wheel for pprint (setup.py) ... \u001b[?25l\u001b[?25hdone\n",
            "  Created wheel for pprint: filename=pprint-0.1-cp36-none-any.whl size=1251 sha256=9e7408fe2b206a2a21d4560518dab74abe99870f2d2cf9ea2d04dd849f4a25c7\n",
            "  Stored in directory: /root/.cache/pip/wheels/42/d4/c6/16a6495aecc1bda5d5857bd036efd50617789ba9bea4a05124\n",
            "Successfully built pprint\n",
            "Installing collected packages: pprint\n",
            "Successfully installed pprint-0.1\n"
          ],
          "name": "stdout"
        }
      ]
    },
    {
      "cell_type": "markdown",
      "metadata": {
        "id": "IKvryjukENlU",
        "colab_type": "text"
      },
      "source": [
        "# Imports"
      ]
    },
    {
      "cell_type": "code",
      "metadata": {
        "id": "jLd2R4Pi1v6X",
        "colab_type": "code",
        "colab": {}
      },
      "source": [
        "import os\n",
        "from fastkml import kml\n",
        "import xmltodict\n",
        "import json\n",
        "import pprint\n",
        "from shapely.geometry import Point, Polygon\n",
        "\n",
        "debug = True"
      ],
      "execution_count": 0,
      "outputs": []
    },
    {
      "cell_type": "markdown",
      "metadata": {
        "id": "JoUMLZsaERHI",
        "colab_type": "text"
      },
      "source": [
        "# Load data"
      ]
    },
    {
      "cell_type": "code",
      "metadata": {
        "id": "SXNyqpsdfVqo",
        "colab_type": "code",
        "outputId": "4009dc56-1870-4612-ce89-ec8463302e6e",
        "colab": {
          "base_uri": "https://localhost:8080/",
          "height": 231
        }
      },
      "source": [
        "\n",
        "if debug: \n",
        "    batch_path = \"/content/drive/My Drive/KeyPhase/Development/PointInPolygon/\"\n",
        "batch_name = \"test\"\n",
        "kml_path = batch_path + \"input/\" + batch_name + \".kml\"\n",
        "json_path = \"/content/drive/My Drive/KeyPhase/Development/PointInPolygon/input/\" + batch_name + \".json\"\n",
        "debug_path = batch_path + 'output/debug/'\n",
        "\n",
        "os.makedirs(os.path.dirname(debug_path), exist_ok=True)\n",
        "\n",
        "# Write XML to JSON\n",
        "with open(kml_path) as xml_file:\n",
        "    with open(json_path, 'w') as json_file:\n",
        "        json.dump(xmltodict.parse(xml_file.read()), json_file)\n",
        "\n",
        "# Traverse down into relevant level\n",
        "data = \"\"\n",
        "with open(json_path) as json_data:\n",
        "    contents = json_data.read()\n",
        "    data = json.loads(contents)\n",
        "    data = data[\"kml\"][\"Document\"]\n",
        "\n",
        "print(\"Successfully created JSON file and loaded file: \" + data['name'] + \" into memory\")\n",
        "\n",
        "data = data['Folder']['Folder']\n",
        "print(data)\n",
        "if debug:\n",
        "    with open(debug_path + 'data.json', 'w') as json_file:\n",
        "        json.dump(data, json_file)"
      ],
      "execution_count": 3,
      "outputs": [
        {
          "output_type": "error",
          "ename": "FileNotFoundError",
          "evalue": "ignored",
          "traceback": [
            "\u001b[0;31m---------------------------------------------------------------------------\u001b[0m",
            "\u001b[0;31mFileNotFoundError\u001b[0m                         Traceback (most recent call last)",
            "\u001b[0;32m<ipython-input-3-7c4a8d721c35>\u001b[0m in \u001b[0;36m<module>\u001b[0;34m()\u001b[0m\n\u001b[1;32m     10\u001b[0m \u001b[0;34m\u001b[0m\u001b[0m\n\u001b[1;32m     11\u001b[0m \u001b[0;31m# Write XML to JSON\u001b[0m\u001b[0;34m\u001b[0m\u001b[0;34m\u001b[0m\u001b[0;34m\u001b[0m\u001b[0m\n\u001b[0;32m---> 12\u001b[0;31m \u001b[0;32mwith\u001b[0m \u001b[0mopen\u001b[0m\u001b[0;34m(\u001b[0m\u001b[0mkml_path\u001b[0m\u001b[0;34m)\u001b[0m \u001b[0;32mas\u001b[0m \u001b[0mxml_file\u001b[0m\u001b[0;34m:\u001b[0m\u001b[0;34m\u001b[0m\u001b[0;34m\u001b[0m\u001b[0m\n\u001b[0m\u001b[1;32m     13\u001b[0m     \u001b[0;32mwith\u001b[0m \u001b[0mopen\u001b[0m\u001b[0;34m(\u001b[0m\u001b[0mjson_path\u001b[0m\u001b[0;34m,\u001b[0m \u001b[0;34m'w'\u001b[0m\u001b[0;34m)\u001b[0m \u001b[0;32mas\u001b[0m \u001b[0mjson_file\u001b[0m\u001b[0;34m:\u001b[0m\u001b[0;34m\u001b[0m\u001b[0;34m\u001b[0m\u001b[0m\n\u001b[1;32m     14\u001b[0m         \u001b[0mjson\u001b[0m\u001b[0;34m.\u001b[0m\u001b[0mdump\u001b[0m\u001b[0;34m(\u001b[0m\u001b[0mxmltodict\u001b[0m\u001b[0;34m.\u001b[0m\u001b[0mparse\u001b[0m\u001b[0;34m(\u001b[0m\u001b[0mxml_file\u001b[0m\u001b[0;34m.\u001b[0m\u001b[0mread\u001b[0m\u001b[0;34m(\u001b[0m\u001b[0;34m)\u001b[0m\u001b[0;34m)\u001b[0m\u001b[0;34m,\u001b[0m \u001b[0mjson_file\u001b[0m\u001b[0;34m)\u001b[0m\u001b[0;34m\u001b[0m\u001b[0;34m\u001b[0m\u001b[0m\n",
            "\u001b[0;31mFileNotFoundError\u001b[0m: [Errno 2] No such file or directory: '/content/drive/My Drive/KeyPhase/Development/PointInPolygon/input/test.kml'"
          ]
        }
      ]
    },
    {
      "cell_type": "markdown",
      "metadata": {
        "id": "prhs9H0l-Qzh",
        "colab_type": "text"
      },
      "source": [
        "# Nested data extraction"
      ]
    },
    {
      "cell_type": "code",
      "metadata": {
        "id": "XSSlabkezBuC",
        "colab_type": "code",
        "colab": {}
      },
      "source": [
        "\n",
        "organisations = []\n",
        "farms = []\n",
        "blocks = []\n",
        "traps = []\n",
        "\n",
        "for org in data:\n",
        "    # Orgs:\n",
        "    if debug:\n",
        "        print(\"- O: \" + org['name'])\n",
        "    organisations.append(org['name'])\n",
        "\n",
        "    # Farms:\n",
        "    for farm in org[\"Folder\"]:\n",
        "        if debug:\n",
        "            print(\"-- F: \" + farm['name'])\n",
        "        farms.append(farm['name'])\n",
        "\n",
        "        # Blocks:\n",
        "        if 'Placemark' in farm:\n",
        "            for marker in farm['Placemark']:\n",
        "                if 'Polygon' in marker:\n",
        "                    if debug:\n",
        "                        print(\"--- B: \" + marker['name'])\n",
        "                elif 'Point' in marker:\n",
        "                    if debug:\n",
        "                        print(\"--- T: \" + marker['name'])\n",
        "        else:\n",
        "            print(\"!- F: \" + farm['name'] + \" is empty!\")\n",
        "            \n",
        "                \n",
        "        \n",
        "\n",
        "print(\"Orgs: \" + str(organisations))\n",
        "print(\"Farms: \" + str(farms))\n",
        "print(\"Blocks: \" + str(blocks))\n",
        "print(\"Traps: \" + str(traps))\n"
      ],
      "execution_count": 0,
      "outputs": []
    },
    {
      "cell_type": "markdown",
      "metadata": {
        "id": "ReHkh7iJ-K5N",
        "colab_type": "text"
      },
      "source": [
        "# Validation"
      ]
    },
    {
      "cell_type": "code",
      "metadata": {
        "id": "6hni2uL6-E8K",
        "colab_type": "code",
        "colab": {}
      },
      "source": [
        "# Basic Validation\n",
        "def checkDuplicatesInList(List):\n",
        "    # Check list for duplicates\n",
        "    if len(List) == len(set(List)):\n",
        "        return False\n",
        "    else:\n",
        "        return True\n",
        "\n",
        "# Orgs:\n",
        "duplicate_orgs = checkDuplicatesInList(organisations)\n",
        "if duplicate_orgs:\n",
        "    print(\"Duplicate ORGANISATIONS found. Please merge Organisation folders in KML file.\")\n",
        "else:\n",
        "    print(\"No duplicate Organisations found.\")\n",
        "\n",
        "# Farms:\n",
        "duplicate_farms = checkDuplicatesInList(farms)\n",
        "if duplicate_farms:\n",
        "    print(\"Duplicate FARMS found. Please check Farm folders in KML file.\")\n",
        "else:\n",
        "    print(\"No duplicate Farms found.\")"
      ],
      "execution_count": 0,
      "outputs": []
    }
  ]
}